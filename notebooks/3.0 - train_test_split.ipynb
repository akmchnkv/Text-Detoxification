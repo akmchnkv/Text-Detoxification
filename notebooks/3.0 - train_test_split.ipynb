{
 "cells": [
  {
   "cell_type": "code",
   "execution_count": 14,
   "id": "588f663d",
   "metadata": {},
   "outputs": [],
   "source": [
    "import pandas as pd\n",
    "from sklearn.model_selection import train_test_split"
   ]
  },
  {
   "cell_type": "code",
   "execution_count": 15,
   "id": "a3401645",
   "metadata": {},
   "outputs": [
    {
     "data": {
      "text/html": [
       "<div>\n",
       "<style scoped>\n",
       "    .dataframe tbody tr th:only-of-type {\n",
       "        vertical-align: middle;\n",
       "    }\n",
       "\n",
       "    .dataframe tbody tr th {\n",
       "        vertical-align: top;\n",
       "    }\n",
       "\n",
       "    .dataframe thead th {\n",
       "        text-align: right;\n",
       "    }\n",
       "</style>\n",
       "<table border=\"1\" class=\"dataframe\">\n",
       "  <thead>\n",
       "    <tr style=\"text-align: right;\">\n",
       "      <th></th>\n",
       "      <th>reference</th>\n",
       "      <th>translation</th>\n",
       "      <th>similarity</th>\n",
       "      <th>length_diff</th>\n",
       "      <th>ref_tox</th>\n",
       "      <th>trn_tox</th>\n",
       "    </tr>\n",
       "  </thead>\n",
       "  <tbody>\n",
       "    <tr>\n",
       "      <th>0</th>\n",
       "      <td>real life starts first time fuck kid</td>\n",
       "      <td>boy real life starts first</td>\n",
       "      <td>0.866697</td>\n",
       "      <td>0.319149</td>\n",
       "      <td>0.998222</td>\n",
       "      <td>0.000114</td>\n",
       "    </tr>\n",
       "    <tr>\n",
       "      <th>1</th>\n",
       "      <td>hey leave poor bastard alone</td>\n",
       "      <td>leave poor man alone</td>\n",
       "      <td>0.857554</td>\n",
       "      <td>0.257143</td>\n",
       "      <td>0.999382</td>\n",
       "      <td>0.000578</td>\n",
       "    </tr>\n",
       "    <tr>\n",
       "      <th>2</th>\n",
       "      <td>told waste fucking time</td>\n",
       "      <td>told waste time</td>\n",
       "      <td>0.904062</td>\n",
       "      <td>0.183673</td>\n",
       "      <td>0.995877</td>\n",
       "      <td>0.000479</td>\n",
       "    </tr>\n",
       "    <tr>\n",
       "      <th>3</th>\n",
       "      <td>swear god best thing ever life save little son...</td>\n",
       "      <td>swear god best thing ive ever done life save l...</td>\n",
       "      <td>0.932305</td>\n",
       "      <td>0.022472</td>\n",
       "      <td>0.999071</td>\n",
       "      <td>0.000900</td>\n",
       "    </tr>\n",
       "    <tr>\n",
       "      <th>4</th>\n",
       "      <td>dont shit</td>\n",
       "      <td>dont anything</td>\n",
       "      <td>0.806763</td>\n",
       "      <td>0.137931</td>\n",
       "      <td>0.995474</td>\n",
       "      <td>0.000047</td>\n",
       "    </tr>\n",
       "  </tbody>\n",
       "</table>\n",
       "</div>"
      ],
      "text/plain": [
       "                                           reference  \\\n",
       "0               real life starts first time fuck kid   \n",
       "1                       hey leave poor bastard alone   \n",
       "2                            told waste fucking time   \n",
       "3  swear god best thing ever life save little son...   \n",
       "4                                          dont shit   \n",
       "\n",
       "                                         translation  similarity  length_diff  \\\n",
       "0                         boy real life starts first    0.866697     0.319149   \n",
       "1                               leave poor man alone    0.857554     0.257143   \n",
       "2                                    told waste time    0.904062     0.183673   \n",
       "3  swear god best thing ive ever done life save l...    0.932305     0.022472   \n",
       "4                                      dont anything    0.806763     0.137931   \n",
       "\n",
       "    ref_tox   trn_tox  \n",
       "0  0.998222  0.000114  \n",
       "1  0.999382  0.000578  \n",
       "2  0.995877  0.000479  \n",
       "3  0.999071  0.000900  \n",
       "4  0.995474  0.000047  "
      ]
     },
     "execution_count": 15,
     "metadata": {},
     "output_type": "execute_result"
    }
   ],
   "source": [
    "df = pd.read_csv('../data/interim/filtered_df.tsv', sep='\\t')\n",
    "df.head()"
   ]
  },
  {
   "cell_type": "code",
   "execution_count": 16,
   "id": "df897a18",
   "metadata": {},
   "outputs": [],
   "source": [
    "train_df, temp = train_test_split(df, train_size=0.7, random_state=42)\n",
    "val_df, test_df = train_test_split(temp, train_size=0.1, random_state=42)"
   ]
  },
  {
   "cell_type": "code",
   "execution_count": 17,
   "id": "441d3efc",
   "metadata": {},
   "outputs": [
    {
     "data": {
      "text/plain": [
       "((25045, 6), (1073, 6), (9661, 6))"
      ]
     },
     "execution_count": 17,
     "metadata": {},
     "output_type": "execute_result"
    }
   ],
   "source": [
    "train_df.shape, val_df.shape, test_df.shape"
   ]
  },
  {
   "cell_type": "code",
   "execution_count": 18,
   "id": "4e281cc4",
   "metadata": {},
   "outputs": [],
   "source": [
    "train_df.to_csv(\"../data/interim/train_df.tsv\", sep='\\t', index=False)\n",
    "val_df.to_csv(\"../data/interim/val_df.tsv\", sep='\\t', index=False)\n",
    "test_df.to_csv(\"../data/interim/test_df.tsv\", sep='\\t', index=False)"
   ]
  }
 ],
 "metadata": {
  "kernelspec": {
   "display_name": "Python 3 (ipykernel)",
   "language": "python",
   "name": "python3"
  },
  "language_info": {
   "codemirror_mode": {
    "name": "ipython",
    "version": 3
   },
   "file_extension": ".py",
   "mimetype": "text/x-python",
   "name": "python",
   "nbconvert_exporter": "python",
   "pygments_lexer": "ipython3",
   "version": "3.10.10"
  }
 },
 "nbformat": 4,
 "nbformat_minor": 5
}
